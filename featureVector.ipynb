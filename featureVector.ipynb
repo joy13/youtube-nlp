{
 "metadata": {
  "name": ""
 },
 "nbformat": 3,
 "nbformat_minor": 0,
 "worksheets": [
  {
   "cells": [
    {
     "cell_type": "code",
     "collapsed": false,
     "input": [
      "from collections import Counter\n",
      "from nltk import sent_tokenize,word_tokenize,porter,bigrams,pos_tag\n",
      "from nltk.corpus import stopwords\n",
      "import operator\n",
      "from nltk.corpus import wordnet as wn\n",
      "import cPickle as pickle\n",
      "from sklearn.feature_extraction.text import CountVectorizer,TfidfVectorizer\n",
      "from sklearn.preprocessing import scale\n",
      "import numpy as np"
     ],
     "language": "python",
     "metadata": {},
     "outputs": [],
     "prompt_number": 17
    },
    {
     "cell_type": "code",
     "collapsed": false,
     "input": [
      "def getPickledFile(emotions,fname):\n",
      "    pickle.dump(emotions,open(fname,'wb'))"
     ],
     "language": "python",
     "metadata": {},
     "outputs": [],
     "prompt_number": 18
    },
    {
     "cell_type": "code",
     "collapsed": false,
     "input": [
      "def getBagOfWords(youcomments):\n",
      "    bagOfWordsDict = {}\n",
      "    for muvi, comments in youcomments.iteritems():\n",
      "        word_counts = Counter()\n",
      "        for sent in sent_tokenize(comments):\n",
      "            for tag in pos_tag(word_tokenize(sent)):\n",
      "                if tag[0] not in stopwords.words('english'): \n",
      "                    if tag[1] == 'JJ': \n",
      "                        word_counts[(tag[0].lower())+'#'+'a'] += 1\n",
      "                    elif tag[1] == 'RB':\n",
      "                        word_counts[(tag[0].lower())+'#'+'r'] += 1\n",
      "                    elif tag[1] == 'VBG' or tag[1] == 'VBD' or tag[1] == 'VBN' or tag[1] == 'VBZ' or tag[1] == 'VB': \n",
      "                        word_counts[(tag[0].lower())+'#'+'v'] += 1\n",
      "                    elif tag[1] == 'NN':\n",
      "                        word_counts[(tag[0].lower())+'#'+'n'] += 1\n",
      "        bagOfWordsDict[muvi] = word_counts\n",
      "    return bagOfWordsDict "
     ],
     "language": "python",
     "metadata": {},
     "outputs": [],
     "prompt_number": 3
    },
    {
     "cell_type": "code",
     "collapsed": false,
     "input": [
      "wordScores = pickle.load( open( \"wordScore.p\", \"rb\" ) )"
     ],
     "language": "python",
     "metadata": {},
     "outputs": [],
     "prompt_number": 4
    },
    {
     "cell_type": "code",
     "collapsed": false,
     "input": [
      "# yc = dict()\n",
      "# yc['m1'] = 'hello how are you? it is very good. The books are awesome.'\n",
      "# yc['m2'] = 'it wouldnt be Return of the King since they never saw the amazing other movies.got our amazing tickets they said in excitement.'\n",
      "# yc['m3'] = 'This movie fucking sucked!!!! It was sooooo uncool'\n",
      "# yc['m4'] = 'his is such an amazing bloody film! One of my favorites from one of my favorite actors'\n",
      "\n",
      "# print yc\n",
      "\n",
      "IN_DIR = 'pickledCommentFiles/'\n",
      "OUT_DIR = 'pickledBOA/'\n",
      "\n",
      "# comment_files = ['comments_50.p','comments_55.p','comments_65.p','comments_100.p','comments_spoo.p','comments_swe.p']\n",
      "\n",
      "comment_files = ['comments_115.p']\n",
      "\n",
      "for c_file in comment_files:\n",
      "    \n",
      "    youComments = pickle.load(open(IN_DIR + c_file, 'rb'))\n",
      "\n",
      "    keys = wordScores.keys()\n",
      "\n",
      "    bow = getBagOfWords(youComments)\n",
      "    for muvi, bag in bow.iteritems():\n",
      "        for w, count in bag.iteritems():\n",
      "            if w in keys:\n",
      "                bag[w] *= wordScores[w]\n",
      "            else:\n",
      "                bag[w] = 0\n",
      "\n",
      "    pos_index = dict()\n",
      "    neg_index = dict()\n",
      "\n",
      "    for muvi, bag in bow.iteritems():\n",
      "        pos_index[muvi] = 0\n",
      "        neg_index[muvi] = 0\n",
      "    \n",
      "\n",
      "    for muvi, bag in bow.iteritems():\n",
      "        ws = 0\n",
      "        for w, count in bag.iteritems():\n",
      "            if count > 0:\n",
      "                ws += 1\n",
      "                pos_index[muvi] += count\n",
      "            elif count < 0:\n",
      "                ws += 1\n",
      "                neg_index[muvi] += (-count)\n",
      "        pos_index[muvi] /= ws\n",
      "        neg_index[muvi] /= ws\n",
      "\n",
      "#     print 'Positive index matrix of movies: ', '\\n'\n",
      "\n",
      "#     print pos_index, '\\n'\n",
      "\n",
      "#     print 'Negative index matrix of movies: ', '\\n'\n",
      "\n",
      "#     print neg_index\n",
      "\n",
      "    getPickledFile(pos_index, c_file + '_positive.p')\n",
      "    getPickledFile(neg_index, c_file + '_negative.p')\n"
     ],
     "language": "python",
     "metadata": {},
     "outputs": [],
     "prompt_number": 8
    },
    {
     "cell_type": "code",
     "collapsed": false,
     "input": [
      "def select_relavant_words(text):\n",
      "    text=word_tokenize(text)\n",
      "    tagged_text = pos_tag(text)\n",
      "    imp_words=[]\n",
      "    for word,tag in tagged_text:\n",
      "        if tag in set(['JJ','JJR','JJS','RB','RBR','RBS','UH','VBG']):\n",
      "            imp_words.append(word)\n",
      "    return ' '.join(imp_words)"
     ],
     "language": "python",
     "metadata": {},
     "outputs": [],
     "prompt_number": 19
    },
    {
     "cell_type": "code",
     "collapsed": false,
     "input": [
      "def count_relavant_word_frequencies(youcomments):\n",
      "    print 'counting....'\n",
      "    word_count = Counter()\n",
      "    wc = Counter()\n",
      "    for muvi, comments in youcomments.iteritems():\n",
      "        relevant_words = select_relavant_words(comments)\n",
      "        for sent in sent_tokenize(comments):\n",
      "            for word in word_tokenize(sent):\n",
      "                if word not in stopwords.words('english') and word in relevant_words:\n",
      "                    word_count[word.lower()] += 1\n",
      "                    wc[word.lower()] += 1\n",
      "    word_count = [a for a,b in sorted(word_count.items(),key=lambda x: x[1],reverse=True)]\n",
      "    wc = sorted(wc.items(),key=lambda x: x[1],reverse=True)\n",
      "    print wc\n",
      "#     getPickledFile(word_count,'corpus_word_counts.p')\n",
      "    print 'done counting'"
     ],
     "language": "python",
     "metadata": {},
     "outputs": [],
     "prompt_number": 20
    },
    {
     "cell_type": "code",
     "collapsed": false,
     "input": [
      "def get_corpus(youcomments):\n",
      "    corpus = []\n",
      "    for k,v in youcomments.iteritems():\n",
      "        corpus.append(str(v))\n",
      "    getPickledFile(corpus,'corpus.p')"
     ],
     "language": "python",
     "metadata": {},
     "outputs": [],
     "prompt_number": 21
    },
    {
     "cell_type": "code",
     "collapsed": false,
     "input": [
      "def getTop_n_words(n):\n",
      "    vocab=pickle.load(open('corpus_word_counts.p','rb'))\n",
      "    return vocab[:n]"
     ],
     "language": "python",
     "metadata": {},
     "outputs": [],
     "prompt_number": 22
    },
    {
     "cell_type": "code",
     "collapsed": false,
     "input": [
      "def get_linguistic_feature_vector(corpus,vocab,vect):\n",
      "    print 'getting f vector'\n",
      "    if vect=='tfidf':\n",
      "        vectorizer = TfidfVectorizer(min_df=1,vocabulary=vocab)\n",
      "    else:\n",
      "        vectorizer = CountVectorizer(min_df=1,vocabulary=vocab)\n",
      "    X = vectorizer.fit_transform(corpus)\n",
      "    return X,vectorizer\n",
      "    print 'done: f vector'"
     ],
     "language": "python",
     "metadata": {},
     "outputs": [],
     "prompt_number": 23
    },
    {
     "cell_type": "code",
     "collapsed": false,
     "input": [
      "def process_sentiments(features,sentipkl,vectorizer):\n",
      "    print 'getting senti'\n",
      "    senti=pickle.load(open(sentipkl))\n",
      "    names=vectorizer.get_feature_names()\n",
      "    wts=np.ones([features.shape[1]])\n",
      "    for i,name in enumerate(names):\n",
      "        if name+'#a' in senti.keys():\n",
      "            wts[i]=senti[name+'#a']['posScore']\n",
      "        else:\n",
      "            wts[i]=0.1\n",
      "    fwts=np.tile(wts,(features.shape[0],1))\n",
      "    senti_fv=np.multiply(features,fwts)\n",
      "    print 'got senti'\n",
      "    return senti_fv"
     ],
     "language": "python",
     "metadata": {},
     "outputs": [],
     "prompt_number": 24
    },
    {
     "cell_type": "code",
     "collapsed": false,
     "input": [
      "IN_DIR = 'pickledCommentFiles/'\n",
      "OUT_DIR = 'out/'\n",
      "# comment_files = ['comments_50.p','comments_115.p','comments_55.p','comments_65.p','comments_100.p','comments_spoo.p','comments_swe.p']\n",
      "# commentsDict = {}\n",
      "# for c_file in comment_files:\n",
      "#     yc = pickle.load(open(IN_DIR + c_file, 'rb'))\n",
      "#     commentsDict = dict(commentsDict.items() + yc.items())    \n",
      "# print len(commentsDict)\n",
      "# getPickledFile(commentsDict,'commentsDict.p')\n",
      "\n"
     ],
     "language": "python",
     "metadata": {},
     "outputs": [],
     "prompt_number": 25
    },
    {
     "cell_type": "code",
     "collapsed": false,
     "input": [
      "# sentipkl='SentiWordNet.p'\n",
      "\n",
      "sentipkl = 'SentiWordNet.p'\n",
      "all_comments = pickle.load(open('commentsDict.p','rb'))\n",
      "count_relavant_word_frequencies(all_comments)\n",
      "get_corpus(all_comments)\n",
      "corpus = pickle.load(open('corpus.p','rb'))\n",
      "vocab = getTop_n_words(120)\n",
      "features,vectorizer = get_linguistic_feature_vector(corpus,vocab,'tfidf')\n",
      "senti_fv = process_sentiments(features.todense(),sentipkl,vectorizer)\n",
      "getPickledFile(senti_fv,OUT_DIR +'fvector.p')\n",
      "\n"
     ],
     "language": "python",
     "metadata": {},
     "outputs": [
      {
       "output_type": "stream",
       "stream": "stdout",
       "text": [
        "counting....\n",
        "[('\\xef\\xbb\\xbf', 859), ('good', 315), ('really', 314), ('i', 302), ('great', 221), ('much', 194), ('even', 189), ('best', 189), ('ever', 178), ('watch', 154), ('better', 146), ('never', 141), ('bad', 141), ('still', 130), ('also', 115), ('first', 108), ('watching', 106), ('well', 101), ('many', 99), ('going', 94), ('actually', 91), ('way', 90), ('so', 85), ('always', 85), ('know', 83), ('go', 80), ('new', 77), ('one', 75), ('amazing', 73), ('song', 73), ('ca', 72), ('original', 70), ('real', 69), ('fucking', 69), ('documentary', 69), ('different', 68), ('u', 68), ('last', 68), ('whole', 67), ('pretty', 66), ('funny', 64), ('back', 64), ('ending', 64), ('old', 63), ('get', 62), ('want', 61), ('right', 61), ('little', 60), ('probably', 58), ('true', 54), ('favorite', 54), ('long', 54), ('just', 52), ('see', 50), ('a', 49), ('looking', 48), ('saying', 47), ('yet', 46), ('away', 45), ('na', 45), ('making', 45), ('stupid', 45), ('us', 44), ('man', 43), ('acting', 43), ('interesting', 42), ('worst', 42), ('enough', 41), ('scary', 41), ('wrong', 39), ('not', 39), ('beautiful', 39), ('already', 38), ('second', 37), ('sad', 37), ('love', 36), ('think', 35), ('say', 35), ('trying', 35), ('hard', 35), ('big', 35), ('black', 34), ('read', 34), ('least', 34), ('else', 34), ('nice', 34), ('boring', 34), ('music', 33), ('far', 33), ('end', 32), ('definitely', 32), ('truly', 32), ('full', 32), ('main', 31), ('seeing', 30), ('able', 30), ('almost', 30), ('like', 30), ('absolutely', 29), ('high', 29), ('completely', 29), ('quite', 28), ('white', 28), ('thinking', 28), ('human', 27), ('the', 26), ('maybe', 26), ('killing', 26), ('talking', 26), ('sure', 25), ('getting', 25), ('however', 24), ('worth', 23), ('greatest', 23), ('especially', 23), ('hate', 22), ('de', 22), ('time', 22), ('epic', 22), ('next', 22), ('every', 21), ('free', 21), ('comic', 21), ('dark', 21), ('coming', 21), ('highly', 20), ('top', 20), ('later', 20), ('important', 20), ('easily', 20), ('easy', 19), ('finally', 19), ('romantic', 19), ('american', 19), ('literally', 19), ('nigger', 18), ('give', 18), ('living', 18), ('totally', 18), ('past', 18), ('basically', 18), ('extremely', 18), ('single', 18), ('ago', 18), ('several', 17), ('evil', 17), ('military', 17), ('possible', 17), ('cool', 17), ('huge', 17), ('look', 17), ('forward', 17), ('young', 17), ('honestly', 17), ('special', 17), ('fantastic', 16), ('earth', 16), ('complete', 16), ('happening', 16), ('simply', 16), ('entire', 16), ('perfect', 16), ('japanese', 15), ('n', 15), ('happy', 15), ('together', 15), ('realistic', 15), ('kill', 15), ('soon', 15), ('late', 15), ('whatever', 15), ('damn', 15), ('understand', 15), ('alive', 15), ('men', 14), ('serious', 14), ('french', 14), ('live', 14), ('such', 14), ('seriously', 14), ('open', 14), ('small', 14), ('terrible', 14), ('wonderful', 14), ('giving', 14), ('instead', 14), ('powerful', 14), ('exactly', 14), ('less', 14), ('incredible', 14), ('personal', 13), ('gon', 13), ('feeling', 13), ('personally', 13), ('possibly', 13), ('unique', 13), ('dead', 13), ('emotional', 13), ('fuck', 13), ('now', 13), ('thing', 13), ('rather', 13), ('feel', 13), ('moving', 13), ('horrible', 13), ('total', 12), ('clearly', 12), ('wan', 12), ('no', 12), ('natural', 12), ('care', 12), ('slow', 12), ('ive', 12), ('due', 12), ('y', 12), ('awesome', 12), ('actual', 12), ('it\\xef\\xbb\\xbf', 12), ('likely', 11), ('third', 11), ('japan', 11), ('entertaining', 11), ('cant', 11), ('classic', 11), ('usually', 11), ('weird', 11), ('honest', 11), ('using', 11), ('agree', 11), ('harry', 11), ('movie', 11), ('recently', 11), ('d', 11), ('comedy', 11), ('overall', 11), ('biggest', 11), ('mean', 10), ('financial', 10), ('modern', 10), ('queen', 10), ('o', 10), ('alone', 10), ('brilliant', 10), ('hot', 10), ('british', 10), ('watched', 10), ('short', 10), ('playing', 10), ('expecting', 10), ('major', 10), ('nothing', 10), ('sometimes', 10), ('close', 10), ('available', 10), ('simple', 10), ('political', 10), ('straight', 10), ('fun', 10), ('similar', 10), ('animal', 10), ('light', 10), ('taking', 10), ('scared', 10), ('incredibly', 10), ('badly', 9), ('earlier', 9), ('seen', 9), ('im', 9), ('shit', 9), ('till', 9), ('mostly', 9), ('freaking', 9), ('wonder', 9), ('lol\\xef\\xbb\\xbf', 9), ('act', 9), ('ta', 9), ('social', 9), ('glad', 9), ('crying', 9), ('waiting', 9), ('thus', 9), ('largest', 9), ('poor', 9), ('here', 8), ('psychological', 8), ('fan', 8), ('predictable', 8), ('silly', 8), ('previous', 8), ('everything', 8), ('certainly', 8), ('graphic', 8), ('somalian', 8), ('reading', 8), ('laughing', 8), ('low', 8), ('green', 8), ('strong', 8), ('fish', 8), ('early', 8), ('often', 8), ('anything', 8), ('enjoyable', 8), ('let', 8), ('sexy', 8), ('times', 8), ('perfectly', 8), ('depressing', 8), ('inspiring', 8), ('respect', 8), ('surprisingly', 8), ('dangerous', 8), ('sick', 8), ('complicated', 7), ('d\\xef\\xbb\\xbf', 7), ('responsible', 7), ('blue', 7), ('kristen', 7), ('corrupt', 7), ('asking', 7), ('knowing', 7), ('call', 7), ('hear', 7), ('holding', 7), ('disgusting', 7), ('working', 7), ('everywhere', 7), ('may', 7), ('happen', 7), ('america', 7), ('blame', 7), ('quiet', 7), ('hardly', 7), ('sleeping', 7), ('running', 7), ('power', 7), ('exciting', 7), ('racist', 7), ('hunting', 7), ('perspective', 7), ('more', 7), ('particular', 7), ('shocking', 7), ('recording', 7), ('common', 7), ('c', 7), ('foreign', 7), ('showing', 7), ('scariest', 7), ('including', 7), ('final', 7), ('painful', 7), ('local', 7), ('opening', 7), ('english', 7), ('dolphins', 7), ('hating', 6), ('sorry', 6), ('porno', 6), ('moral', 6), ('therefore', 6), ('then', 6), ('fuckin', 6), ('mind', 6), ('mine', 6), ('rich', 6), ('da', 6), ('fair', 6), ('weak', 6), ('european', 6), ('kid', 6), ('cultural', 6), ('super', 6), ('batman', 6), ('annoying', 6), ('dying', 6), ('bring', 6), ('current', 6), ('wait', 6), ('angry', 6), ('visual', 6), ('unbelievable', 6), ('cute', 6), ('mainly', 6), ('touching', 6), ('soo', 6), ('el', 6), ('cheesy', 6), ('fought', 6), ('tragic', 6), ('terrifying', 6), ('editing', 6), ('knew', 6), ('walking', 6), ('certain', 6), ('separate', 6), ('religious', 6), ('large', 6), ('public', 6), ('mysterious', 6), ('fi', 6), ('sooo', 6), ('hurting', 6), ('trailer', 6), ('selling', 6), ('commentary', 6), ('play', 6), ('most', 6), ('clear', 6), ('sex', 6), ('analog', 6), ('it\\xc2\\xb4s', 6), ('recent', 6), ('obviously', 6), ('indonesian', 6), ('either', 6), ('nowhere', 6), ('m', 6), ('utterly', 6), ('ignorant', 6), ('telling', 6), ('egypt', 6), ('la', 6), ('willing', 6), ('beeing', 6), ('nuclear', 6), ('relevant', 6), ('laugh', 6), ('slowly', 6), ('fighting', 6), ('pussy', 6), ('female', 6), ('good\\xef\\xbb\\xbf', 6), ('asian', 5), ('chinese', 5), ('appreciate', 5), ('writing', 5), ('turning', 5), ('western', 5), ('somewhat', 5), ('cinematic', 5), ('medical', 5), ('officially', 5), ('christian', 5), ('quickly', 5), ('basic', 5), ('specific', 5), ('informative', 5), ('phenomenal', 5), ('creative', 5), ('slightly', 5), ('son', 5), ('interested', 5), ('digital', 5), ('younger', 5), ('falling', 5), ('breathtaking', 5), ('positive', 5), ('loving', 5), ('crazy', 5), ('talk', 5), ('typical', 5), ('twilight', 5), ('dredd', 5), ('jewish', 5), ('potential', 5), ('bitching', 5), ('normal', 5), ('egyptian', 5), ('negative', 5), ('developing', 5), ('cast', 5), ('eventually', 5), ('roughly', 5), ('scientific', 5), ('strongly', 5), ('film', 5), ('sound', 5), ('horror', 5), ('bible', 5), ('brutal', 5), ('gorgeous', 5), ('keeping', 5), ('mental', 5), ('extended', 5), ('dont', 5), ('unrealistic', 5), ('kind', 5), ('part', 5), ('usual', 5), ('find', 5), ('giant', 5), ('famous', 5), ('person', 5), ('popular', 5), ('economic', 5), ('pen', 5), ('eating', 5), ('intense', 5), ('seen\\xef\\xbb\\xbf', 5), ('que', 5), ('wrestling', 5), ('stop', 5), ('superior', 5), ('hilarious', 5), ('bother', 5), ('imaginative', 5), ('min', 5), ('stronger', 5), ('longer', 5), ('insulting', 5), ('paranormal', 5), ('difficult', 5), ('pleasantly', 5), ('domestic', 5), ('somali', 5), ('press', 5), ('parasite', 5), ('blowing', 5), ('ha', 5), ('eat', 5), ('record', 5), ('irish', 5), ('education', 5), ('enjoy', 4), ('cheating', 4), ('holy', 4), ('absolute', 4), ('complaining', 4), ('meaningful', 4), ('ultimate', 4), ('compelling', 4), ('fantasy', 4), ('too', 4), ('danish', 4), ('positively', 4), ('historical', 4), ('thoroughly', 4), ('causing', 4), ('r', 4), ('tough', 4), ('tiny', 4), ('lovely', 4), ('sooooo', 4), ('movie\\xef\\xbb\\xbf', 4), ('raid', 4), ('jealous', 4), ('apart', 4), ('unnecessary', 4), ('adorable', 4), ('flying', 4), ('war', 4), ('believable', 4), ('mediocre', 4), ('faster', 4), ('global', 4), ('soooo', 4), ('rough', 4), ('reply', 4), ('heard', 4), ('si', 4), ('cold', 4), ('entirely', 4), ('ultimately', 4), ('theory', 4), ('massive', 4), ('frequent', 4), ('constantly', 4), ('impossible', 4), ('necessarily', 4), ('ridiculous', 4), ('wanting', 4), ('touchy', 4), ('only', 4), ('blackfish', 4), ('consider', 4), ('dramatic', 4), ('ironic', 4), ('pay', 4), ('accountable', 4), ('rest', 4), ('fracking', 4), ('legal', 4), ('boat', 4), ('iconic', 4), ('stand', 4), ('al', 4), ('building', 4), ('starting', 4), ('awful', 4), ('pathetic', 4), ('deeply', 4), ('perhaps', 4), ('particularly', 4), ('art', 4), ('currently', 4), ('invisible', 4), ('sensitive', 4), ('sweet', 4), ('empty', 4), ('solid', 4), ('canadian', 4), ('hoping', 4), ('von', 4), ('disappointing', 4), ('beautifully', 4), ('anymore', 4), ('higher', 4), ('shitty', 4), ('skeptical', 4), ('per', 4), ('dull', 4), ('friendly', 4), ('odd', 4), ('leo', 4), ('larger', 4), ('clever', 4), ('rubbish', 4), ('something', 4), ('native', 4), ('surely', 4), ('jesus', 4), ('afraid', 4), ('astro', 4), ('normally', 4), ('horribly', 4), ('supernatural', 4), ('crude', 4), ('commenting', 4), ('winning', 4), ('stunning', 4), ('lonely', 4), ('indonesia', 4), ('accurate', 4), ('e', 4), ('\\xe2\\x80\\x9d', 4), ('scarier', 3), ('tell', 3), ('posting', 3), ('aware', 3), ('excellent', 3), ('dolphin', 3), ('ma', 3), ('work', 3), ('sitting', 3), ('communistic', 3), ('greed', 3), ('easier', 3), ('rental', 3), ('god', 3), ('washed', 3), ('re', 3), ('standard', 3), ('listen', 3), ('raw', 3), ('corny', 3), ('adequate', 3), ('horrendous', 3), ('lazy', 3), ('wo', 3), ('essentially', 3), ('ill', 3), ('con', 3), ('website', 3), ('definetly', 3), ('ugly', 3), ('near', 3), ('it', 3), ('in', 3), ('independent', 3), ('kept', 3), ('failing', 3), ('corporate', 3), ('technological', 3), ('gave', 3), ('starring', 3), ('automatically', 3), ('wasting', 3), ('amazingly', 3), ('physical', 3), ('generally', 3), ('cambodia', 3), ('ver', 3), ('obsessively', 3), ('impressive', 3), ('die', 3), ('brother', 3), ('amazing\\xef\\xbb\\xbf', 3), ('quick', 3), ('spiritual', 3), ('unexpected', 3), ('supporting', 3), ('soul', 3), ('swedish', 3), ('fortunately', 3), ('chemical', 3), ('familiar', 3), ('heartbreaking', 3), ('remember', 3), ('african', 3), ('how', 3), ('3', 3), ('en', 3), ('thebigfish', 3), ('blind', 3), ('surviving', 3), ('fast', 3), ('silent', 3), ('accurately', 3), ('wide', 3), ('unfortunately', 3), ('average', 3), ('drive', 3), ('arguably', 3), ('german', 3), ('effective', 3), ('west', 3), ('paying', 3), ('secondary', 3), ('harsh', 3), ('finish', 3), ('weekly', 3), ('listening', 3), ('grim', 3), ('passionate', 3), ('racial', 3), ('bj\\xc3\\xb6rk', 3), ('ol', 3), ('ok', 3), ('societal', 3), ('general', 3), ('as', 3), ('this\\xef\\xbb\\xbf', 3), ('20th', 3), ('ten', 3), ('suddenly', 3), ('comparing', 3), ('der', 3), ('dramatically', 3), ('occasionally', 3), ('ensemble', 3), ('shooting', 3), ('spinning', 3), ('weight', 3), ('engaging', 3), ('ass', 3), ('extraordinary', 3), ('done', 3), ('leading', 3), ('king', 3), ('b', 3), ('double', 3), ('outstanding', 3), ('blond', 3), ('traditional', 3), ('closely', 3), ('frightening', 3), ('cry', 3), ('shit\\xef\\xbb\\xbf', 3), ('individual', 3), ('protecting', 3), ('won', 3), ('various', 3), ('creating', 3), ('missing', 3), ('barely', 3), ('retarded', 3), ('expensive', 3), ('rio', 3), ('viewing', 3), ('haunting', 3), ('letting', 3), ('joke\\xef\\xbb\\xbf', 3), ('curious', 3), ('stalking', 3), ('highlight', 3), ('award\\xef\\xbb\\xbf', 3), ('critical', 3), ('magic', 3), ('try', 3), ('car', 3), ('commercial', 3), ('mindblowing', 3), ('win', 3), ('private', 3), ('standing', 3), ('belgian', 3), ('charming', 3), ('educational', 3), ('intelligent', 3), ('greatly', 3), ('legendary', 3), ('sexual', 3), ('unoriginal', 3), ('greedy', 3), ('environmental', 3), ('bet', 3), ('false', 3), ('overboard', 3), ('comfortable', 3), ('recyclable', 3), ('apparently', 3), ('anyway', 3), ('ear', 3), ('meant', 3), ('flirting', 3), ('bear', 3), ('ones', 3), ('nearly', 3), ('calling', 3), ('wish', 3), ('attempting', 3), ('key', 3), ('staring', 3), ('comment', 3), ('denial', 3), ('transformative', 3), ('fishing', 3), ('soft', 3), ('assuming', 3), ('subjective', 3), ('neutral', 3), ('gay', 3), ('lately', 3), ('l\\xc3\\xbc', 3), ('dynamic', 2), ('poorly', 2), ('traumatized', 2), ('gritty', 2), ('screaming', 2), ('vast', 2), ('stereotypical', 2), ('hanging', 2), ('elegant', 2), ('fabulous', 2), ('established', 2), ('great\\xef\\xbb\\xbf', 2), ('commemorating', 2), ('net', 2), ('told', 2), ('festive', 2), ('antisemitic', 2), ('study', 2), ('appropriately', 2), ('kangana', 2), ('sarah', 2), ('cannibal', 2), ('recommend', 2), ('amaaaazing', 2), ('addictive', 2), ('initial', 2), ('ower', 2), ('turn', 2), ('insecure', 2), ('demanding', 2), ('lightning\\xe2\\x80\\x99s', 2), ('fictional', 2), ('funniest', 2), ('bombing', 2), ('bringing', 2), ('valor', 2), ('hidden', 2), ('pleasurable', 2), ('shameful', 2), ('yakking', 2), ('spider', 2), ('driving', 2), ('returning', 2), ('wanted', 2), ('enormous', 2), ('thanking', 2), ('hannibal', 2), ('hearing', 2), ('misusing', 2), ('bouncing', 2), ('more\\xef\\xbb\\xbf', 2), ('fairest', 2), ('matter', 2), ('staggeringly', 2), ('sounding', 2), ('realy', 2), ('defiantly', 2), ('involving', 2), ('plenty', 2), ('coin', 2), ('renting', 2), ('lethal', 2), ('soldier', 2), ('bat', 2), ('covering', 2), ('nicely', 2), ('guns', 2), ('peripheral', 2), ('brazil', 2), ('wh', 2), ('picking', 2), ('hated', 2), ('peacefully', 2), ('betting', 2), ('straighforward', 2), ('blonde', 2), ('speak', 2), ('world\\xef\\xbb\\xbf', 2), ('interest', 2), ('innocent', 2), ('worked', 2), ('newest', 2), ('suppose', 2), ('remembering', 2), ('creepy', 2), ('intruiging', 2), ('ocean', 2), ('golden', 2), ('casting', 2), ('serbian', 2), ('people', 2), ('\\xe2\\x80\\x9cdid', 2), ('theatrical', 2), ('opposite', 2), ('hotly', 2), ('dubh', 2), ('intellectual', 2), ('formidable', 2), ('lowest', 2), ('complaint', 2), ('muscular', 2), ('blatantly', 2), ('convincing', 2), ('belive', 2), ('bashing', 2), ('rolling', 2), ('push', 2), ('ost', 2), ('ferociously', 2), ('uneventful', 2), ('irreducibly', 2), ('booring', 2), ('pulsating', 2), ('funeral', 2), ('understanding', 2), ('guilty', 2), ('exiting', 2), ('genuinely', 2), ('rarely', 2), ('sweating', 2), ('wondering', 2), ('believing', 2), ('acceptable', 2), ('there\\xef\\xbb\\xbf', 2), ('fly', 2), ('avoiding', 2), ('following', 2), ('angle\\xe2\\x80\\x99s', 2), ('critic', 2), ('wafting', 2), ('broad', 2), ('destructive', 2), ('filthy', 2), ('unbelievably', 2), ('ocassionally', 2), ('imagining', 2), ('indeed', 2), ('statistical', 2), ('maniac\\xef\\xbb\\xbf', 2), ('\\xc3\\xa7ocu\\xc4\\x9fun', 2), ('nation', 2), ('scorsese', 2), ('realise', 2), ('eh', 2), ('beloved', 2), ('goose', 2), ('ex', 2), ('sexually', 2), ('es', 2), ('3rd', 2), ('coincidentally', 2), ('forget\\xef\\xbb\\xbf', 2), ('saving', 2), ('you\\xef\\xbb\\xbf', 2), ('plastic', 2), ('psychotic', 2), ('legally', 2), ('representing', 2), ('annostly', 2), ('counselor', 2), ('pre', 2), ('turned', 2), ('lurking', 2), ('i\\xc2\\xb4ve', 2), ('surprising', 2), ('detective', 2), ('show', 2), ('contemporary', 2), ('righteous', 2), ('brilliant\\xef\\xbb\\xbf', 2), ('assistant', 2), ('malaysian', 2), ('film\\xef\\xbb\\xbf', 2), ('silently', 2), ('physically', 2), ('actively', 2), ('ur', 2), ('satisfying', 2), ('subsequent', 2), ('remake', 2), ('valor\\xef\\xbb\\xbf', 2), ('por', 2), ('bizarre', 2), ('unusual', 2), ('careful', 2), ('ongoing', 2), ('promising', 2), ('noble', 2), ('cartoon', 2), ('mentally', 2), ('largely', 2), ('relief', 2), ('nd', 2), ('pissing', 2), ('exceptionnal', 2), ('extensive', 2), ('spectacular', 2), ('desperately', 2), ('admitting', 2), ('lightning', 2), ('slavery', 2), ('redeeming', 2), ('wrongly', 2), ('riveting', 2), ('overly', 2), ('notably', 2), ('empathetic', 2), ('log', 2), ('prepare', 2), ('start', 2), ('brazilian', 2), ('seasoned', 2), ('judging', 2), ('buying', 2), ('spamming', 2), ('ad', 2), ('scary\\xef\\xbb\\xbf', 2), ('you', 2), ('fresh', 2), ('forget', 2), ('pointing', 2), ('remarkable', 2), ('init', 2), ('ti', 2), ('smile', 2), ('enjoying', 2), ('worse', 2), ('fat', 2), ('cable', 2), ('laying', 2), ('ethically', 2), ('racing', 2), ('escaping', 2), ('supposedly', 2), ('corniest', 2), ('ahead', 2), ('prior', 2), ('africa', 2), ('methodically', 2), ('conventional', 2), ('controlling', 2), ('producing', 2), ('challenging', 2), ('minimum', 2), ('awkward', 2), ('breaking', 2), ('rude', 2), ('\\xe2\\x80\\x9cwhy', 2), ('anytime', 2), ('fundamental', 2), ('kinetic', 2), ('comedic', 2), ('return', 2), ('disrespectful', 2), ('speechless', 2), ('bigger', 2), ('2d', 2), ('groundbreaking', 2), ('expect', 2), ('laughable', 2), ('brutally', 2), ('guest', 2), ('store', 2), ('\\xe2\\x80\\x9ctoy', 2), ('vocal', 2), ('magical', 2), ('randomly', 2), ('pedestrian', 2), ('ambitious', 2), ('vulnerable', 2), ('heterosexual', 2), ('internal', 2), ('afghanistan', 2), ('accepting', 2), ('artistic', 2), ('meta\\xef\\xbb\\xbf', 2), ('hyped', 2), ('se', 2), ('fine', 2), ('technologically', 2), ('randy', 2), ('villian', 2), ('meanwhile', 2), ('international', 2), ('progressive', 2), ('violent', 2), ('merely', 2), ('x', 2), ('insensitive', 2), ('creepiest', 2), ('degrading', 2), ('piss', 2), ('unconscious', 2), ('initially', 2), ('point', 2), ('sing', 2), ('unleash', 2), ('hooot\\xef\\xbb\\xbf', 2), ('intriguing', 2), ('holocaust', 2), ('healthy', 2), ('74th', 2), ('costly', 2), ('ready', 2), ('infamous', 2), ('lower', 2), ('older', 2), ('inspirational', 2), ('five', 2), ('i\\xe2\\x80\\x99m', 2), ('ludicrous', 2), ('competitive', 2), ('fanfic', 2), ('marrying', 2), ('lacking', 2), ('suffering', 2), ('palehorseridder', 2), ('helpful', 2), ('provoking', 2), ('stylish', 2), ('google', 2), ('streaming', 2), ('oddly', 2), ('though', 2), ('varying', 2), ('cautious', 2), ('completing', 2), ('firing', 2), ('ppl', 2), ('profit', 2), ('integral', 2), ('spam', 2), ('spat', 2), ('graciously', 2), ('didn\\xc2\\xb4t', 2), ('constant', 2), ('choosing', 2), ('vous', 2), ('raging', 2), ('diverse', 2), ('beatiful', 2), ('favourite', 2), ('mindlessly', 2), ('appalling', 2), ('intentional', 2), ('portraying', 2), ('partial', 2), ('soon\\xef\\xbb\\xbf', 2), ('putting', 2), ('shock', 2), ('imply', 2), ('video', 2), ('traveling', 2), ('subtle', 2), ('kris', 2), ('3d', 2), ('catholic', 2), ('clark', 2), ('danger', 2), ('improbable', 2), ('use', 2), ('illegal', 2), ('carrying', 2), ('tearing', 2), ('anywhere', 2), ('obvious', 2), ('proof', 2), ('serial', 2), ('destroying', 2), ('boxing', 2), ('masky', 2), ('ethnic', 2), ('one\\xef\\xbb\\xbf', 2), ('unbreakable', 2), ('nostalgic', 2), ('cutting', 2), ('republican', 2), ('billy', 2), ('\\xe2\\x80\\x9cno\\xe2\\x80\\x9d', 2), ('we\\xe2\\x80\\x99re', 2), ('cause', 2), ('g', 2), ('scare', 2), ('prospective', 2), ('finest', 2), ('drastic', 2), ('sadly', 2), ('monkey', 2), ('vile', 2), ('gear', 2), ('overwhelming', 2), ('loved', 2), ('gentile', 2), ('squealing', 2), ('disturbing', 2), ('intresting', 2), ('xd\\xef\\xbb\\xbf', 2), ('korean', 2), ('harmful', 2), ('why', 2), ('saddest', 2), ('overhasty', 2), ('utter', 2), ('fear', 2), ('riding', 2), ('disappointingly', 2), ('lucky', 2), ('wiggle', 2), ('watchin', 2), ('guessing', 2), ('national', 2), ('get\\xef\\xbb\\xbf', 2), ('detailed', 2), ('visually', 2), ('waste', 2), ('fellow', 2), ('present', 2), ('troubled', 2), ('atmospheric', 2), ('plain', 2), ('wild', 2), ('lust', 2), ('tempestuous', 2), ('tedious', 2), ('emotionally', 2), ('whale', 2), ('endearing', 2), ('latest', 2), ('bending', 2), ('excessive', 2), ('offensive', 2), ('distant', 2), ('add', 2), ('checking', 2), ('formulaic', 2), ('immediately', 2), ('necessary', 2), ('searching', 2), ('vicarious', 2), ('proper', 2), ('home', 2), ('unfunny', 2), ('poignant', 2), ('worthy', 2), ('amy', 2), ('hiding', 2), ('unlikable', 2), ('kidding', 2), ('selfish', 2), ('moive', 2), ('universal', 2), ('ghost', 2), ('rounding', 2), ('8th', 2), ('limited', 1), ('amzing', 1), ('four', 1), ('debaucherous', 1), ('feeding', 1), ('igual', 1), ('void', 1), ('regional', 1), ('yellow', 1), ('betterr', 1), ('vastly', 1), ('courageous', 1), ('upload', 1), ('admissible', 1), ('diverting', 1), ('tired', 1), ('director\\xe2\\x80\\xa6', 1), ('forgetting', 1), ('entirly', 1), ('designing', 1), ('resilient', 1), ('meh', 1), ('suitably', 1), ('jail', 1), ('ignoring', 1), ('jogging', 1), ('allready', 1), ('digitally', 1), ('visible', 1), ('would', 1), ('hospital', 1), ('loledhearing', 1), ('teribble', 1), ('separated', 1), ('successful', 1), ('naive', 1), ('connecticut', 1), ('pinching', 1), ('fluidly', 1), ('morally', 1), ('refusing', 1), ('era', 1), ('espcially', 1), ('elegantly', 1), ('counseling', 1), ('aging', 1), ('titular', 1), ('very', 1), ('aching', 1), ('toxic', 1), ('gate', 1), ('ordinary', 1), ('dignified', 1), ('jumping', 1), ('hibbedihooo', 1), ('accumulatively', 1), ('las', 1), ('elusive', 1), ('sickening', 1), ('democratic', 1), ('thecounselor\\xef\\xbb\\xbf', 1), ('helarious', 1), ('innovative', 1), ('deathly', 1), ('fit', 1), ('admirable', 1), ('safe', 1), ('educating', 1), ('clogging', 1), ('imprisoning', 1), ('manuring', 1), ('ther', 1), ('grammar', 1), ('rocky', 1), ('clean\\xef\\xbb\\xbf', 1), ('l', 1), ('profusely', 1), ('acoustic', 1), ('pantomine', 1), ('side', 1), ('fairly', 1), ('schizophrenic', 1), ('substantially', 1), ('recognizable', 1), ('reminding', 1), ('psychic', 1), ('sparkly', 1), ('content', 1), ('rare', 1), ('forth', 1), ('linear', 1), ('deceptive', 1), ('greasy', 1), ('fictitiously', 1), ('loud', 1), ('\\xe2\\x80\\x9cbillions\\xe2\\x80\\x9d', 1), ('encouraging', 1), ('lovable', 1), ('philosophical', 1), ('fired\\xef\\xbb\\xbf', 1), ('remotely', 1), ('westchile', 1), ('historian', 1), ('2', 1), ('farming', 1), ('well\\xef\\xbb\\xbf', 1), ('kno', 1), ('happily', 1), ('2al', 1), ('nin\\xef\\xbb\\xbf', 1), ('\\xc4\\xb1n', 1), ('peculiar', 1), ('kidnaps', 1), ('fail\\xef\\xbb\\xbf', 1), ('surrounding', 1), ('\\xc3\\xbczere', 1), ('best\\xef\\xbb\\xbf', 1), ('literslly', 1), ('spoiled', 1), ('honourable', 1), ('humble', 1), ('runner', 1), ('tho', 1), ('genuine', 1), ('maarde\\xef\\xbb\\xbf', 1), ('predominantly', 1), ('unsuspecting', 1), ('i\\xc2\\xb4d', 1), ('committing', 1), ('psychologically', 1), ('tormenting', 1), ('swiss', 1), ('unknowingly', 1), ('doc', 1), ('age\\xef\\xbb\\xbf', 1), ('greatfull', 1), ('declassified', 1), ('scream', 1), ('amending', 1), ('\\xc2\\xa8what', 1), ('can\\xc2\\xb4t', 1), ('you\\xc2\\xb4d', 1), ('stepping', 1), ('analogue', 1), ('busy', 1), ('painfully', 1), ('creeping', 1), ('ment', 1), ('photographic', 1), ('bust', 1), ('id\\xe2\\x80\\x99s', 1), ('wearing', 1), ('colorful', 1), ('scalable', 1), ('blinking', 1), ('wedding', 1), ('beleive', 1), ('underrated\\xef\\xbb\\xbf', 1), ('idiotic', 1), ('softly', 1), ('stunningly', 1), ('farther', 1), ('blew', 1), ('erroneous', 1), ('\\xe2\\x80\\xa6they', 1), ('inappropriate', 1), ('rushing', 1), ('simplest', 1), ('discovery', 1), ('contradicting', 1), ('omg', 1), ('wa', 1), ('\\xc4\\xb0\\xc5\\x9fte', 1), ('predicable', 1), ('sacrificing', 1), ('voyeuristic', 1), ('heating', 1), ('acts\\xef\\xbb\\xbf', 1), ('mildly', 1), ('lookin', 1), ('argue', 1), ('com', 1), ('fudged', 1), ('immensly', 1), ('gathering', 1), ('epidemic', 1), ('likeable', 1), ('majestic', 1), ('bureaucratic', 1), ('sup\\xc3\\xaarb', 1), ('confident', 1), ('detrimental', 1), ('incompetent', 1), ('graphical', 1), ('concerning', 1), ('prison', 1), ('spic', 1), ('immersive', 1), ('moronically', 1), ('remakes', 1), ('sense\\xef\\xbb\\xbf', 1), ('wildest', 1), ('trimming', 1), ('k', 1), ('dictate', 1), ('sting', 1), ('skipping', 1), ('ia', 1), ('p\\xef\\xbb\\xbf', 1), ('x\\xef\\xbb\\xbf', 1), ('make', 1), ('complex', 1), ('reffering', 1), ('confronting', 1), ('mine\\xef\\xbb\\xbf', 1), ('amphibious', 1), ('pick', 1), ('portal', 1), ('kin', 1), ('song\\xef\\xbb\\xbf', 1), ('stupendous', 1), ('uploading', 1), ('i\\xef\\xbb\\xbf', 1), ('pneumonia\\xe2\\x80\\xa6', 1), ('academic', 1), ('incapable', 1), ('mother', 1), ('quantitative', 1), ('skyrim\\xef\\xbb\\xbf', 1), ('seasonal', 1), ('ahhhhhhh\\xef\\xbb\\xbf', 1), ('financially', 1), ('transporting', 1), ('yes', 1), ('adding', 1), ('teenaged', 1), ('hal', 1), ('photographer', 1), ('josh', 1), ('ele', 1), ('horror\\xef\\xbb\\xbf', 1), ('pitiful', 1), ('east', 1), ('yify\\xef\\xbb\\xbf', 1), ('dreamy', 1), ('gifted', 1), ('manual', 1), ('srry\\xef\\xbb\\xbf', 1), ('toughest', 1), ('year\\xef\\xbb\\xbf', 1), ('rly', 1), ('pills\\xef\\xbb\\xbf', 1), ('totaly', 1), ('finking', 1), ('witty', 1), ('losing', 1), ('memorable', 1), ('post', 1), ('masterpiece\\xef\\xbb\\xbf', 1), ('jeesh', 1), ('confused\\xef\\xbb\\xbf', 1), ('twilight\\xef\\xbb\\xbf', 1), ('misleading', 1), ('historically', 1), ('definetely', 1), ('primitive', 1), ('farrell', 1), ('thankful', 1), ('often\\xef\\xbb\\xbf', 1), ('coastal', 1), ('reducing', 1), ('awesome\\xef\\xbb\\xbf', 1), ('wal', 1), ('support', 1), ('clinical', 1), ('offering', 1), ('becoming', 1), ('kat\\xc4\\xb1lan', 1), ('sickest', 1), ('japanse', 1), ('racism\\xef\\xbb\\xbf', 1), ('martial', 1), ('ruined', 1), ('horrifying', 1), ('temper', 1), ('zombie\\xef\\xbb\\xbf', 1), ('proud', 1), ('liberal', 1), ('upset', 1), ('fuck\\xef\\xbb\\xbf', 1), ('watchable', 1), ('chuckling', 1), ('dimly', 1), ('entertaining\\xef\\xbb\\xbf', 1), ('faithful', 1), ('ruthless', 1), ('\\xe2\\x80\\x98should\\xe2\\x80\\x99', 1), ('mulling', 1), ('weirdest', 1), ('professional', 1), ('died', 1), ('dredd\\xef\\xbb\\xbf', 1), ('apologizing', 1), ('blushing', 1), ('speechless\\xe2\\x80\\xa6', 1), ('precise', 1), ('ron', 1), ('drained', 1), ('rob', 1), ('g\\xc3\\xbc\\xc3\\xa7ler', 1), ('grateful', 1), ('battle', 1), ('rhino', 1), ('relly', 1), ('filming', 1), ('downloading', 1), ('sequal', 1), ('boring\\xef\\xbb\\xbf', 1), ('brazillian', 1), ('seemingly', 1), ('skyfall', 1), ('lady\\xef\\xbb\\xbf', 1), ('rapturous', 1), ('forgiving', 1), ('blast', 1), ('exact', 1), ('dating', 1), ('culminating', 1), ('guy', 1), ('phrasing', 1), ('obnoxiously', 1), ('attic', 1), ('ab\\xc4\\xb1m\\xc4\\xb1n', 1), ('erotic', 1), ('enticing', 1), ('suspect', 1), ('beautifull', 1), ('unintentionally', 1), ('illuminatic\\xef\\xbb\\xbf', 1), ('morgan', 1), ('assertive', 1), ('tallying', 1), ('na\\xc3\\xafvety', 1), ('impacted', 1), ('givin', 1), ('extra', 1), ('randevous', 1), ('logical', 1), ('bloody', 1), ('fake', 1), ('te', 1), ('olimpian', 1), ('remaking', 1), ('dude', 1), ('cuter', 1), ('introducing', 1), ('sharing', 1), ('building\\xef\\xbb\\xbf', 1), ('capturing', 1), ('yelling', 1), ('wouldnt', 1), ('originally', 1), ('hardest', 1), ('fiercely', 1), ('can', 1), ('9th', 1), ('metal', 1), ('slightest', 1), ('ddd\\xef\\xbb\\xbf', 1), ('topic', 1), ('clothing', 1), ('bankrupt', 1), ('foul', 1), ('fourth', 1), ('haveing', 1), ('mat', 1), ('blasting', 1), ('spot', 1), ('4th', 1), ('surfing', 1), ('whenever', 1), ('3ashan', 1), ('quantifiable', 1), ('sa', 1), ('serving', 1), ('internationally', 1), ('lackluster', 1), ('according', 1), ('instantly', 1), ('closure', 1), ('completly', 1), ('unveiling', 1), ('smarter', 1), ('sooner', 1), ('lustful', 1), ('debating', 1), ('animalistic', 1), ('directing', 1), ('persian', 1), ('entering', 1), ('troll', 1), ('exploding', 1), ('suggesting', 1), ('lucrative', 1), ('nightmarish', 1), ('ominous', 1), ('inevitable', 1), ('\\xc3\\x96ncelikle', 1), ('doctor\\xef\\xbb\\xbf', 1), ('pandemic', 1), ('cheese', 1), ('bladerunner', 1), ('directly', 1), ('ripping', 1), ('u\\xc3\\xa7an', 1), ('mysteriously', 1), ('definitly', 1), ('friend', 1), ('keyennn\\xef\\xbb\\xbf', 1), ('inefficient', 1), ('that', 1), ('season', 1), ('screwing', 1), ('sluttier', 1), ('i\\xe2\\x80\\x99ll', 1), ('future', 1), ('aesthetic', 1), ('gigantic', 1), ('addressing', 1), ('contentious', 1), ('crossover', 1), ('exchanging', 1), ('astonishingly', 1), ('fashionable', 1), ('isolate', 1), ('shocked', 1), ('zoo', 1), ('objective', 1), ('switching', 1), ('multiple', 1), ('norman', 1), ('oppressive', 1), ('importantly', 1), ('clich\\xc3\\xa9', 1), ('forever', 1), ('radioactive', 1), ('understandable', 1), ('typically', 1), ('rating', 1), ('monstrous', 1), ('shot', 1), ('tragically', 1), ('bright', 1), ('cambodian', 1), ('century\\xef\\xbb\\xbf', 1), ('imagined', 1), ('boresome', 1), ('crashing', 1), ('romanian', 1), ('outside', 1), ('courage\\xef\\xbb\\xbf', 1), ('congressional', 1), ('hungarian', 1), ('lighten', 1), ('attacking', 1), ('grossing', 1), ('prime', 1), ('reveal', 1), ('regarding', 1), ('artist', 1), ('basicaly', 1), ('barbaric', 1), ('roger', 1), ('imagination\\xef\\xbb\\xbf', 1), ('palehorse', 1), ('despropotional', 1), ('smiling', 1), ('defensively', 1), ('wayy', 1), ('munching', 1), ('definite', 1), ('recognisable', 1), ('unanimous', 1), ('joking', 1), ('parental', 1), ('flow', 1), ('unusually', 1), ('trolling', 1), ('daddy', 1), ('s', 1), ('yearly', 1), ('fransh', 1), ('learning', 1), ('disliking', 1), ('jailing', 1), ('nicole', 1), ('badddddd', 1), ('considering', 1), ('cycling', 1), ('capable', 1), ('atomic', 1), ('tropical', 1), ('punished', 1), ('peaceful', 1), ('technical', 1), ('enable', 1), ('director\\xc2\\xb4s', 1), ('external', 1), ('profane', 1), ('tribal', 1), ('scarily', 1), ('warning', 1), ('agnostic', 1), ('pssssst', 1), ('blah', 1), ('lie\\xef\\xbb\\xbf', 1), ('speechless\\xef\\xbb\\xbf', 1), ('locking', 1), ('struggling', 1), ('document', 1), ('pal', 1), ('homophobic', 1), ('nest', 1), ('director', 1), ('disapointing', 1), ('changing', 1), ('anticipated', 1), ('eventual', 1), ('vacant', 1), ('grumpy', 1), ('malicious', 1), ('being', 1), ('knowledgeably', 1), ('touch', 1), ('death', 1), ('ahhhh', 1), ('wrong\\xef\\xbb\\xbf', 1), ('adam\\xc4\\xb1n', 1), ('overturning', 1), ('awfull\\xef\\xbb\\xbf', 1), ('aiming', 1), ('pregnant', 1), ('miracle', 1), ('journey\\xef\\xbb\\xbf', 1), ('miraculous', 1), ('fully', 1), ('mans\\xef\\xbb\\xbf', 1), ('verbal', 1), ('alexa\\xef\\xbb\\xbf', 1), ('pacific', 1), ('excelent', 1), ('gross', 1), ('highest', 1), ('nooo', 1), ('conservative', 1), ('corrosive', 1), ('narcissistic', 1), ('sixth', 1), ('equivalent', 1), ('ration', 1), ('verdad', 1), ('polite', 1), ('on', 1), ('oh', 1), ('sadistic', 1), ('bantu', 1), ('youl', 1), ('fertile', 1), ('rising', 1), ('lively', 1), ('emerging', 1), ('lastly', 1), ('yous', 1), ('hes', 1), ('removing', 1), ('strictly', 1), ('hey', 1), ('lol', 1), ('lot', 1), ('exceptional', 1), ('hysterical', 1), ('sophisticated', 1), ('jus', 1), ('wiping', 1), ('overlong', 1), ('offical', 1), ('dirty', 1), ('currupt', 1), ('sumthng', 1), ('cinema', 1), ('ai', 1), ('deep', 1), ('navy', 1), ('daily', 1), ('incarcerating', 1), ('incorrect', 1), ('onerous', 1), ('valid', 1), ('gambling', 1), ('ilah', 1), ('briefly', 1), ('forgettable', 1), ('gayest', 1), ('unselfish', 1), ('posible', 1), ('cabins\\xef\\xbb\\xbf', 1), ('alright', 1), ('69th', 1), ('crucial', 1), ('classy', 1), ('systemic', 1), ('violative', 1), ('follow', 1), ('theactofkilling', 1), ('llike', 1), ('tu', 1), ('sociological', 1), ('focus', 1), ('rogue', 1), ('sony', 1), ('depressingly', 1), ('ranting', 1), ('overprotective', 1), ('biological', 1), ('anal', 1), ('unusual\\xef\\xbb\\xbf', 1), ('hopefully', 1), ('dispassionately', 1), ('sooooooo', 1), ('d\\xc3\\xbcnyan\\xc4\\xb1n', 1), ('empower', 1), ('smartest', 1), ('excess', 1), ('tragedy', 1), ('want\\xef\\xbb\\xbf', 1), ('whimsical', 1), ('family', 1), ('cowardly', 1), ('you\\xe2\\x80\\x99re', 1), ('asi', 1), ('intensive', 1), ('khal', 1), ('shite', 1), ('impressionable', 1), ('inflatable', 1), ('teen', 1), ('flat', 1), ('underprivileged', 1), ('furthermore', 1), ('instrumental', 1), ('known', 1), ('mellow', 1), ('recall', 1), ('den', 1), ('v', 1), ('centralpark', 1), ('male', 1), ('compare', 1), ('watching\\xef\\xbb\\xbf', 1), ('libertarian', 1), ('condemn', 1), ('respective', 1), ('terribly', 1), ('unlucky', 1), ('glowing', 1), ('ft', 1), ('tried', 1), ('petite', 1), ('scapegoating', 1), ('sceptic', 1), ('blood', 1), ('horizontal', 1), ('authentic', 1), ('shady', 1), ('nonchalantly', 1), ('time\\xef\\xbb\\xbf', 1), ('way\\xef\\xbb\\xbf', 1), ('developed', 1), ('trouble', 1), ('unleashing', 1), ('thrilling', 1), ('bout', 1), ('fool', 1), ('aren\\xc2\\xb4t', 1), ('sucking', 1), ('seeking', 1), ('ya', 1), ('socially', 1), ('r\\xc3\\xa9plique', 1), ('towering', 1), ('complain', 1), ('everytime', 1), ('moronic', 1), ('heavy', 1), ('conflicting', 1), ('wacky', 1), ('astro\\xef\\xbb\\xbf', 1), ('scratching', 1), ('immensely', 1), ('gullible', 1), ('neanderthal', 1), ('prolly', 1), ('unnatural', 1), ('childish', 1), ('publish', 1), ('longtime', 1), ('sometime\\xef\\xbb\\xbf', 1), ('brownish', 1), ('blaring', 1), ('trite', 1), ('pleasant', 1), ('dire', 1), ('ask', 1), ('them\\xef\\xbb\\xbf', 1), ('dealy', 1), ('jew', 1), ('w\\xc3\\xa1\\xc3\\xa0tchh', 1), ('cheering', 1), ('w', 1), ('existential', 1), ('relate', 1), ('churning', 1), ('barbarian', 1), ('case\\xe2\\x80\\xa6', 1), ('story', 1), ('moderately', 1), ('photographing', 1), ('luckily', 1), ('satirical', 1), ('focusing', 1), ('waking', 1), ('critically', 1), ('kindly', 1), ('shamalamadindong', 1), ('bohemian', 1), ('dang', 1), ('dddddddd\\xef\\xbb\\xbf', 1), ('suspicious', 1), ('ula\\xc5\\x9fan', 1), ('importa', 1), ('lie', 1), ('depending', 1), ('self', 1), ('jocking', 1), ('g\\xc3\\xbc\\xc3\\xa7leriyle', 1), ('freakishly', 1), ('useless', 1), ('finding', 1), ('pretending', 1), ('eff', 1), ('hatness', 1), ('significant', 1), ('funnier', 1), ('giggling', 1), ('clean', 1), ('apathetic', 1), ('dragged', 1), ('lying', 1), ('lumping', 1), ('hyper', 1), ('stunned', 1), ('fink', 1), ('carefully', 1), ('paranoid', 1), ('heavily', 1), ('unhappy', 1), ('revisionary', 1), ('see\\xef\\xbb\\xbf', 1), ('convoluted', 1), ('trash\\xef\\xbb\\xbf', 1), ('puzzling\\xef\\xbb\\xbf', 1), ('hit', 1), ('beyonc\\xc3\\xa9', 1), ('bend', 1), ('whistly', 1), ('hid', 1), ('valuable', 1), ('charmingly', 1), ('frankly', 1), ('k\\xc3\\xb6rfezde', 1), ('wrongfully', 1), ('insane', 1), ('spell', 1), ('set', 1), ('cynical', 1), ('plausible', 1), ('irredeemable', 1), ('sea', 1), ('unsettling', 1), ('wow', 1), ('people\\xef\\xbb\\xbf', 1), ('fluently', 1), ('10th', 1), ('tangible', 1), ('paramedic', 1), ('lash', 1), ('deserved', 1), ('clashing', 1), ('dream\\xef\\xbb\\xbf', 1), ('along', 1), ('startling', 1), ('atmosphere', 1), ('dug', 1), ('faithfully', 1), ('dropping', 1), ('charasmatic', 1), ('preventable', 1), ('meeting', 1), ('inglourious', 1), ('counselling', 1), ('pricey', 1), ('specifically', 1), ('demand', 1), ('gad', 1), ('ihatemoving', 1), ('hilariously', 1), ('herself\\xef\\xbb\\xbf', 1), ('leaning', 1), ('portugal', 1), ('mystic', 1), ('karmic', 1), ('rid', 1), ('rember', 1), ('around', 1), ('subliminal', 1), ('widely', 1), ('cumming', 1), ('g\\xc3\\xb6\\xc3\\xa7menlerden', 1), ('used', 1), ('m\\xc3\\xbccadele', 1), ('prequal', 1), ('cleaning', 1), ('historic', 1), ('regulating', 1), ('revelatory', 1), ('redfoo\\xef\\xbb\\xbf', 1), ('reliant', 1), ('openly', 1), ('balling', 1), ('dissappointed', 1), ('superficial', 1), ('alternate', 1), ('cuz', 1), ('remaining', 1), ('amusing', 1), ('cornish', 1), ('bureaucrat', 1), ('darude', 1), ('lovin', 1), ('quest', 1), ('admittedly', 1), ('rushed\\xef\\xbb\\xbf', 1), ('multicultural', 1), ('ignore', 1), ('nkneven', 1), ('explainable', 1), ('essential', 1), ('gardening', 1), ('pathetically', 1), ('amicable', 1), ('gradually', 1), ('lmao\\xef\\xbb\\xbf', 1), ('\\xc3\\xb6\\xc4\\x9felerde', 1), ('minimal', 1), ('akward', 1), ('visionary', 1), ('hypocritical', 1), ('comcast', 1), ('regular', 1), ('idc', 1), ('smelly', 1), ('calming', 1), ('die\\xef\\xbb\\xbf', 1), ('infuriating', 1), ('elsewhere', 1), ('pel\\xc3\\xadculas', 1), ('properly', 1), ('repeatedly', 1), ('newer', 1), ('forbidding', 1), ('fulfilling', 1), ('characteristic', 1), ('norman\\xef\\xbb\\xbf', 1), ('cautiously', 1), ('z', 1), ('uber', 1), ('humanitarian', 1), ('comming', 1), ('trailer\\xef\\xbb\\xbf', 1), ('semite', 1), ('imean', 1), ('rally', 1), ('haha\\xef\\xbb\\xbf', 1), ('fixing', 1), ('peace', 1), ('interisting', 1), ('rewriting', 1), ('defrauding', 1), ('indecipherable', 1), ('ooo', 1), ('wishing', 1), ('explaining', 1), ('apparent', 1), ('energetic', 1), ('condeming', 1), ('helping', 1), ('meaning', 1), ('highlighting', 1), ('depicting', 1), ('practically', 1), ('blonde\\xef\\xbb\\xbf', 1), ('resolving', 1), ('y\\xc4\\xb1llardan', 1), ('remakes\\xef\\xbb\\xbf', 1), ('factually', 1), ('once', 1), ('gang', 1), ('kate', 1), ('vietnamese', 1), ('literary', 1), ('squeezing', 1), ('redemptive', 1), ('dolphins\\xef\\xbb\\xbf', 1), ('dead\\xef\\xbb\\xbf', 1), ('murderous', 1), ('charather', 1), ('enslaved', 1), ('drinking', 1), ('nausea', 1), ('timely', 1), ('excruciating', 1), ('experiencing', 1), ('eve', 1), ('havent', 1), ('quoting', 1), ('gripping', 1), ('dude\\xef\\xbb\\xbf', 1), ('punishing', 1), ('taraf\\xc4\\xb1ndan', 1), ('unprofitable', 1), ('uncomfortable', 1), ('incidentally', 1), ('hot\\xe2\\x80\\xa6', 1), ('dysfunctional', 1), ('bluntly', 1), ('indian', 1), ('volatile', 1), ('polluting', 1), ('melancholy', 1), ('cringing', 1), ('chose', 1), ('upsetting', 1), ('les', 1), ('extreme', 1), ('settling', 1), ('unatural', 1), ('receive', 1), ('titanic', 1), ('leaving', 1), ('resulting', 1), ('dumbest', 1), ('apply', 1), ('singing', 1), ('hypothetically', 1), ('assuring', 1), ('cheeky', 1), ('y\\xc4\\xb1llarda', 1), ('jonathan', 1), ('indefensible', 1), ('terrible\\xef\\xbb\\xbf', 1), ('mooore', 1), ('started', 1), ('bitly', 1), ('musician', 1), ('gladly', 1), ('fooling', 1), ('f', 1), ('thin', 1), ('didnt', 1), ('control', 1), ('effectively', 1), ('pulling', 1), ('bloodiest', 1), ('dominant', 1), ('united', 1), ('boasting', 1), ('lame', 1), ('routinary', 1), ('especial', 1), ('ow', 1), ('spelling', 1), ('techincally', 1), ('chasing', 1), ('story\\xef\\xbb\\xbf', 1), ('sit', 1), ('disrespecting', 1), ('eerily', 1), ('fatally', 1), ('lo', 1), ('spoiling', 1), ('criminal', 1), ('defining', 1), ('infertile', 1), ('dad', 1), ('youngish', 1), ('thecentralparkfive', 1), ('\\xe2\\x80\\x8b\\xe2\\x80\\x8bme', 1), ('lunatic', 1), ('countly', 1), ('tavan', 1), ('bothering', 1), ('front', 1), ('edit', 1), ('panic', 1), ('try\\xef\\xbb\\xbf', 1), ('shaking', 1), ('reproducing', 1), ('yaz\\xc4\\xb1lar\\xc4\\xb1ndan', 1), ('conceptually', 1), ('mindboggling', 1), ('activist', 1), ('molly', 1), ('surprisngly', 1), ('keen', 1), ('scene', 1), ('kangana\\xef\\xbb\\xbf', 1), ('system', 1), ('enjoyable\\xef\\xbb\\xbf', 1), ('dreary', 1), ('reflecting', 1), ('oblivion\\xef\\xbb\\xbf', 1), ('wathcing', 1), ('glamorous', 1), ('bed', 1), ('screw', 1), ('mic', 1), ('reciting', 1), ('worldwide', 1), ('screamingly', 1), ('cracking', 1), ('tall', 1), ('gitmi\\xc5\\x9flerdir', 1), ('allegorical', 1), ('astonishing', 1), ('absurd', 1), ('shittier', 1), ('fact', 1), ('dumbfoundingly', 1), ('exclusive', 1), ('absorbing', 1), ('purely', 1), ('planning', 1), ('debate', 1), ('jap', 1), ('unable', 1), ('ethan', 1), ('communist', 1), ('forever\\xef\\xbb\\xbf', 1), ('thouroughly', 1), ('beat', 1), ('realisitic', 1), ('photography', 1), ('aforementioned', 1), ('ripple', 1), ('married', 1), ('watched\\xef\\xbb\\xbf', 1), ('futuristic', 1), ('btw', 1), ('inventive', 1), ('smooth', 1), ('fantastically', 1), ('relatable', 1), ('closer', 1), ('favor', 1), ('progress', 1), ('l\\xc3\\xa4sst', 1), ('joy', 1), ('toting', 1), ('kicking', 1), ('approval', 1), ('precious', 1), ('guns\\xef\\xbb\\xbf', 1), ('declining', 1), ('joke', 1), ('equal', 1), ('faggotest', 1), ('passing', 1), ('safely', 1), ('otherwise', 1), ('co', 1), ('gooooo', 1), ('walk', 1), ('willy', 1), ('tremendous', 1), ('decent', 1), ('era\\xef\\xbb\\xbf', 1), ('anoying', 1), ('genetic', 1), ('blatant', 1), ('sluts\\xef\\xbb\\xbf', 1), ('hilarious\\xef\\xbb\\xbf', 1), ('homosexual', 1), ('sufficient', 1), ('\\xe2\\x80\\x9cme', 1), ('hateful', 1), ('bull', 1), ('anabet\\xef\\xbb\\xbf', 1), ('unlike', 1), ('imagination', 1), ('harder', 1), ('mutant', 1), ('ve', 1), ('almac\\xc3\\xa9n', 1), ('gothic', 1), ('whore', 1), ('tattoo', 1), ('generic', 1), ('matthew', 1), ('strange', 1), ('eclectic', 1), ('android', 1), ('kidnapping', 1), ('slave', 1), ('impeccably', 1), ('brad', 1), ('seaking', 1), ('frequently', 1), ('impeccable', 1), ('shacky', 1), ('raping', 1), ('b\\xc3\\xb6l\\xc3\\xbcmde', 1), ('dose', 1), ('biologist', 1), ('profiteering', 1), ('sky', 1), ('arrest', 1), ('attractive', 1), ('\\xe2\\x80\\x9cit\\xe2\\x80\\x99s', 1), ('identical', 1), ('catfishing', 1), ('passable', 1), ('jiggling', 1), ('italian', 1), ('accessible', 1), ('shabby', 1), ('motive', 1), ('ish', 1), ('liking', 1), ('peter', 1), ('snuggly', 1), ('delightful', 1), ('appreciative', 1), ('bustling', 1), ('murderer', 1), ('inaccurate', 1), ('slight', 1), ('rationing', 1), ('previously', 1), ('chronic', 1), ('doesnt', 1), ('secretive', 1), ('mere', 1), ('significantly', 1), ('rushed', 1), ('troubling', 1), ('naturally', 1), ('buy', 1), ('north', 1), ('treacherous', 1), ('blaming', 1), ('hi', 1), ('he', 1), ('evident', 1), ('oligarchy', 1), ('j', 1), ('\\xc2\\xa8', 1), ('piece', 1), ('stirring', 1), ('excruciatingly', 1), ('rightly', 1), ('preaching', 1), ('s\\xc3\\xbcrmekte', 1), ('bad\\xef\\xbb\\xbf', 1), ('domesticated', 1), ('eric', 1), ('i\\xc3\\xa7ine', 1), ('mutual', 1), ('agoraphobic', 1), ('claiming', 1), ('detail', 1), ('fire', 1), ('witness', 1), ('reckless', 1), ('reeally', 1), ('writting', 1), ('astounding', 1), ('ecological', 1), ('wrenching', 1), ('cheque', 1), ('goin', 1), ('unspeakably', 1), ('prevalent', 1), ('criminals\\xef\\xbb\\xbf', 1), ('intentionally', 1), ('repeting', 1), ('tanking', 1), ('indirectly', 1)]"
       ]
      },
      {
       "output_type": "stream",
       "stream": "stdout",
       "text": [
        "\n",
        "done counting\n",
        "getting f vector"
       ]
      },
      {
       "output_type": "stream",
       "stream": "stdout",
       "text": [
        "\n",
        "getting senti"
       ]
      },
      {
       "output_type": "stream",
       "stream": "stdout",
       "text": [
        "\n",
        "got senti"
       ]
      },
      {
       "output_type": "stream",
       "stream": "stdout",
       "text": [
        "\n"
       ]
      }
     ],
     "prompt_number": 28
    },
    {
     "cell_type": "code",
     "collapsed": false,
     "input": [
      "# fv = pickle.load(open('corpus_word_counts.p','rb'))\n",
      "# print fv"
     ],
     "language": "python",
     "metadata": {},
     "outputs": [],
     "prompt_number": 29
    },
    {
     "cell_type": "code",
     "collapsed": false,
     "input": [
      "yc = dict()\n",
      "yc['m1'] = 'The books are awesome. They were amazing people. The hero was grave and beautiful'\n",
      "yc['m2'] = 'it wouldnt be Return of the King since they never saw amazing movies. got our amazing tickets they said in excitement.'\n",
      "yc['m3'] = 'This movie fucking sucked!!!! It was sooooo uncool. fucking people. such stupidity'\n",
      "yc['m4'] = 'his is such an amazing film! sooooo awesome! One of my favorites from one of my favorite actors. fucking idiots they are'\n",
      "\n"
     ],
     "language": "python",
     "metadata": {},
     "outputs": []
    }
   ],
   "metadata": {}
  }
 ]
}